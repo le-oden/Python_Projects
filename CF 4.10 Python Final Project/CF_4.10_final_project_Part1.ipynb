{
 "cells": [
  {
   "cell_type": "markdown",
   "id": "810664c6-df0d-483d-8260-8fe558f92137",
   "metadata": {},
   "source": [
    "# Career Foundry Exercise 4.10\n",
    "- Remove PII fields\n",
    "- Add in a region column\n",
    "- Analyze price point by region\n",
    "- Remove customers with fewer than 5 orders\n",
    "- Add derived columns for  age, income, certain goods in the “department_id” column, and number of dependents\n",
    "- Create visualizations\n",
    "- Aggregate variables"
   ]
  },
  {
   "cell_type": "code",
   "execution_count": 47,
   "id": "f8f9f34e-b748-4b16-abd5-98656288b35b",
   "metadata": {},
   "outputs": [],
   "source": [
    "#remember to import everytime you open a new notebook\n",
    "import pandas as pd\n",
    "import numpy as np\n",
    "import os\n",
    "import matplotlib.pyplot as plt\n",
    "import seaborn as sns\n",
    "import scipy"
   ]
  },
  {
   "cell_type": "code",
   "execution_count": 49,
   "id": "66a0abbc-7beb-4c6b-adb2-adce603f986b",
   "metadata": {},
   "outputs": [],
   "source": [
    "# create a path\n",
    "path = r'C:\\Users\\laura\\Documents\\Continuting Education\\Career Foundry\\Python\\Python Data Set'"
   ]
  },
  {
   "cell_type": "code",
   "execution_count": 51,
   "id": "b6d40921-3ccd-46c9-8ded-c19c25407724",
   "metadata": {},
   "outputs": [],
   "source": [
    "# create a path for the final project\n",
    "path_client = r'C:\\Users\\laura\\Documents\\Continuting Education\\Career Foundry\\Python\\Instacart Basket Analysis'"
   ]
  },
  {
   "cell_type": "markdown",
   "id": "302330b0-b28f-4750-b864-c8a2dc1aa466",
   "metadata": {},
   "source": [
    "## Question 1 - Import the Latest Data set"
   ]
  },
  {
   "cell_type": "code",
   "execution_count": 54,
   "id": "9208fae9-9a68-4733-b36e-181c035b1caf",
   "metadata": {},
   "outputs": [],
   "source": [
    "#import the latest data frame\n",
    "ords_prods_customers = pd.read_pickle(os.path.join(path, 'Prepared Data', '4.9_data_viz', 'ords_prods_customers.pkl'))"
   ]
  },
  {
   "cell_type": "code",
   "execution_count": 55,
   "id": "25455408-6990-4f0e-9270-9e5222287bce",
   "metadata": {},
   "outputs": [],
   "source": [
    "#rename columns\n",
    "ords_prods_customers.rename(columns={'First Name': 'first_name'}, inplace=True)\n",
    "ords_prods_customers.rename(columns={'Last_Name': 'last_name'}, inplace=True)\n",
    "ords_prods_customers.rename(columns={'Gender': 'gender'}, inplace=True)\n",
    "ords_prods_customers.rename(columns={'STATE': 'state'}, inplace=True)\n",
    "ords_prods_customers.rename(columns={'Age': 'age'}, inplace=True)\n",
    "ords_prods_customers.rename(columns={'Dependant_Count': 'dependant_count'}, inplace=True)"
   ]
  },
  {
   "cell_type": "markdown",
   "id": "5790514f-98a1-4711-943d-02b001d7534f",
   "metadata": {},
   "source": [
    "## Question 2 - Consider the latest security and PII implications"
   ]
  },
  {
   "cell_type": "code",
   "execution_count": 61,
   "id": "aafe90b8-961e-4576-b07b-f0cc2badd8f5",
   "metadata": {},
   "outputs": [
    {
     "name": "stdout",
     "output_type": "stream",
     "text": [
      "['order_id', 'user_id', 'order_number', 'orders_day_of_week', 'order_hour_of_day', 'days_since_prior_order', 'product_id', 'add_to_cart_order', 'reordered', 'product_name', 'aisle_id', 'department_id', 'prices', 'busiest_day', 'busiest_hours', 'max_order', 'loyalty_flag', 'avg_product_order', 'spender_flag', 'med_days_since_order', 'frequency_flag', 'first_name', 'last_name', 'gender', 'state', 'age', 'date_joined', 'dependant_count', 'fam_status', 'income']\n"
     ]
    }
   ],
   "source": [
    "# check all columns in the dataframe\n",
    "column_names = ords_prods_customers.columns.tolist()\n",
    "print(column_names)"
   ]
  },
  {
   "cell_type": "code",
   "execution_count": 65,
   "id": "b6450f7e-c352-40b8-ae63-9368e5960fb3",
   "metadata": {},
   "outputs": [
    {
     "data": {
      "text/plain": [
       "(32404859, 30)"
      ]
     },
     "execution_count": 65,
     "metadata": {},
     "output_type": "execute_result"
    }
   ],
   "source": [
    "ords_prods_customers.shape"
   ]
  },
  {
   "cell_type": "code",
   "execution_count": 67,
   "id": "c7b8dd58-aa8e-4c22-9d99-f04246a33057",
   "metadata": {},
   "outputs": [],
   "source": [
    "#Since the customer’s name, location, and income exist in the same dataframe, this could be sufficient to identify an individual and\n",
    "#possibly reveal private information, such as their income. To maintain privacy, I will remove the customer’s name from the dataframe.\n",
    "#Dropping this information will not adversely impact the analysis."
   ]
  },
  {
   "cell_type": "code",
   "execution_count": 69,
   "id": "cf18cb0d-cae0-41e1-9c0e-b291c2f20cca",
   "metadata": {},
   "outputs": [],
   "source": [
    "ords_prods_customers.drop(['first_name', 'last_name'], axis=1, inplace=True)\n"
   ]
  },
  {
   "cell_type": "code",
   "execution_count": 70,
   "id": "688888a7-8010-4146-bd3c-eb3432c76b2b",
   "metadata": {},
   "outputs": [
    {
     "data": {
      "text/plain": [
       "(32404859, 28)"
      ]
     },
     "execution_count": 70,
     "metadata": {},
     "output_type": "execute_result"
    }
   ],
   "source": [
    "ords_prods_customers.shape"
   ]
  },
  {
   "cell_type": "markdown",
   "id": "eb8b9476-6673-415f-b090-c41cdd73eb7d",
   "metadata": {},
   "source": [
    "## Question 3 (A) - Create a regional segment for the data"
   ]
  },
  {
   "cell_type": "code",
   "execution_count": 74,
   "id": "15001d46-7548-480f-97ab-e97c3c9b7a5b",
   "metadata": {},
   "outputs": [],
   "source": [
    "## Add in a region column to the data frame\n",
    "ords_prods_customers.loc[ords_prods_customers['state'].isin(['Maine', 'New Hampshire', 'Vermont', 'Massachusetts', 'Rhode Island', 'Connecticut', 'New York', 'Pennsylvania', 'New Jersey', 'Maine']), 'region'] = 'Northeast'"
   ]
  },
  {
   "cell_type": "code",
   "execution_count": 76,
   "id": "e9d5acc5-3a74-43de-8776-cb39fc37d91a",
   "metadata": {},
   "outputs": [],
   "source": [
    "ords_prods_customers.loc[ords_prods_customers['state'].isin(['Michigan', 'Wisconsin', 'Illinois', 'Indiana', 'Ohio', 'North Dakota', 'South Dakota', 'Nebraska', 'Kansas', 'Minnesota', 'Iowa', 'Missouri', 'Michigan']), 'region'] = 'Midwest'"
   ]
  },
  {
   "cell_type": "code",
   "execution_count": 78,
   "id": "5a7c7f8b-3c67-4278-9ed8-07be4c4a5555",
   "metadata": {},
   "outputs": [],
   "source": [
    "ords_prods_customers.loc[ords_prods_customers['state'].isin(['Delaware', 'Maryland', 'District of Columbia', 'Virginia', 'West Virginia', 'North Carolina', 'South Carolina', 'Georgia', 'Florida', ' Kentucky', 'Tennessee', 'Mississippi', 'Alabama', 'Oklahoma', 'Texas', 'Arkansas', 'Louisiana', 'Delaware', 'Kentucky']), 'region'] = 'South'"
   ]
  },
  {
   "cell_type": "code",
   "execution_count": 80,
   "id": "49d7421c-307f-4ce8-98b9-fcc25793e723",
   "metadata": {},
   "outputs": [],
   "source": [
    "ords_prods_customers.loc[ords_prods_customers['state'].isin(['Idaho', 'Montana', 'Wyoming', 'Nevada', 'Utah', 'Colorado', 'Arizona', 'New Mexico', 'Alaska', 'Washington', 'Oregon', 'California', 'Hawaii', 'Idaho']), 'region'] = 'West'"
   ]
  },
  {
   "cell_type": "code",
   "execution_count": 82,
   "id": "8753204e-542c-41cd-a58e-40ba048e8bf4",
   "metadata": {},
   "outputs": [
    {
     "data": {
      "text/plain": [
       "(32404859, 29)"
      ]
     },
     "execution_count": 82,
     "metadata": {},
     "output_type": "execute_result"
    }
   ],
   "source": [
    "ords_prods_customers.shape"
   ]
  },
  {
   "cell_type": "markdown",
   "id": "9523f37e-2020-413a-ad40-d7518b754436",
   "metadata": {},
   "source": [
    "## Question 3 (B) - Is there a regional difference in spending habbits"
   ]
  },
  {
   "cell_type": "code",
   "execution_count": 85,
   "id": "4ad278e4-14e1-4697-a0d3-6167802c4afa",
   "metadata": {},
   "outputs": [],
   "source": [
    "#first put region and prices in a crosstab\n",
    "crosstab_prices_region = pd.crosstab(ords_prods_customers['region'], ords_prods_customers['prices'], dropna = False)"
   ]
  },
  {
   "cell_type": "code",
   "execution_count": 87,
   "id": "88a25a26-f458-4d37-91e7-bd8cf6d1c545",
   "metadata": {},
   "outputs": [],
   "source": [
    "crosstab_prices_region.to_clipboard()"
   ]
  },
  {
   "cell_type": "code",
   "execution_count": 89,
   "id": "03b58ce7-ab24-41f8-8b59-2b10b3ce03b6",
   "metadata": {},
   "outputs": [
    {
     "data": {
      "text/plain": [
       "Text(0, 0.5, 'Price')"
      ]
     },
     "execution_count": 89,
     "metadata": {},
     "output_type": "execute_result"
    },
    {
     "data": {
      "image/png": "[encoded data removed]",
      "text/plain": [
       "<Figure size 640x480 with 1 Axes>"
      ]
     },
     "metadata": {},
     "output_type": "display_data"
    }
   ],
   "source": [
    "#The crosstab will be included in the final analysis, however, I believe the best way to show the regional price\n",
    "# differences is with a box plot \n",
    "\n",
    "region_price_plot = sns.boxplot(x='region', y='prices', data=ords_prods_customers, hue = 'region', palette={'South': '#bbbbbb','West': '#aa3377','Northeast': '#ccbb44','Midwest': '#228833'})\n",
    "plt.title('Plot of Prices by Region')\n",
    "plt.xlabel('Region')\n",
    "plt.ylabel('Price')"
   ]
  },
  {
   "cell_type": "code",
   "execution_count": 91,
   "id": "1a45cf7c-b35c-4d1b-8124-c6a882cac702",
   "metadata": {},
   "outputs": [],
   "source": [
    "# when viewed this way there is very little regional variation in prices."
   ]
  },
  {
   "cell_type": "code",
   "execution_count": 93,
   "id": "11ae3d23-fa5b-4eed-8480-9ef20d596769",
   "metadata": {},
   "outputs": [],
   "source": [
    "#export visualization to final project\n",
    "region_price_plot.figure.savefig(os.path.join(path_client,  'Analysis', 'Visualizations', 'region_price_plot.png') , bbox_inches = 'tight')"
   ]
  },
  {
   "cell_type": "markdown",
   "id": "93618349-b163-4e00-9cdd-aa3c3f2ece12",
   "metadata": {},
   "source": [
    "## Question 4 - Create an exclusion flag for low-activity customers\n"
   ]
  },
  {
   "cell_type": "code",
   "execution_count": 96,
   "id": "b8cc330d-6fce-4de2-a080-51d4add8be47",
   "metadata": {},
   "outputs": [],
   "source": [
    "ords_prods_customers.loc[(ords_prods_customers['max_order'] <= 4), 'activity_flag'] = 'low activity customer'"
   ]
  },
  {
   "cell_type": "code",
   "execution_count": 98,
   "id": "ff811dde-fc0b-4962-8616-2b3f081b5d41",
   "metadata": {},
   "outputs": [],
   "source": [
    "ords_prods_customers.loc[(ords_prods_customers['max_order'] >= 5), 'activity_flag'] = 'regular activity customer'"
   ]
  },
  {
   "cell_type": "code",
   "execution_count": 100,
   "id": "972a4d00-a676-49df-92fc-8151c7cf67d8",
   "metadata": {},
   "outputs": [
    {
     "data": {
      "text/plain": [
       "(32404859, 30)"
      ]
     },
     "execution_count": 100,
     "metadata": {},
     "output_type": "execute_result"
    }
   ],
   "source": [
    "ords_prods_customers.shape"
   ]
  },
  {
   "cell_type": "code",
   "execution_count": 104,
   "id": "6218bb2d-2de0-480f-8889-d59d5af256b5",
   "metadata": {},
   "outputs": [],
   "source": [
    "#create a data frame with the target customer list and export it. This list will be used going forward\n",
    "ords_prods_customers_target = ords_prods_customers[ords_prods_customers['activity_flag'] == 'regular activity customer']"
   ]
  },
  {
   "cell_type": "code",
   "execution_count": 106,
   "id": "991cd38a-277d-4e0f-9f07-22d35faf8923",
   "metadata": {},
   "outputs": [
    {
     "data": {
      "text/plain": [
       "(30964564, 30)"
      ]
     },
     "execution_count": 106,
     "metadata": {},
     "output_type": "execute_result"
    }
   ],
   "source": [
    "ords_prods_customers_target.shape"
   ]
  },
  {
   "cell_type": "code",
   "execution_count": 108,
   "id": "1a074a0a-c176-43dc-b808-824186a7daa6",
   "metadata": {},
   "outputs": [],
   "source": [
    "#export the data frame to the project file\n",
    "ords_prods_customers_target.to_pickle(os.path.join(path_client,'Data', 'ords_prods_customers_target.pkl'))"
   ]
  },
  {
   "cell_type": "code",
   "execution_count": 110,
   "id": "29afe656-60b5-423b-996d-7068f8e7effa",
   "metadata": {},
   "outputs": [],
   "source": [
    "#delete the original data frame as it is no longer needed\n",
    "del ords_prods_customers"
   ]
  },
  {
   "cell_type": "markdown",
   "id": "6d67271c-81f0-4c22-a8a9-a75f2e4f4d39",
   "metadata": {},
   "source": [
    "## Question 5 Create a profiling variable based on age, income, certain goods in the “department_id” column, and number of dependents"
   ]
  },
  {
   "cell_type": "code",
   "execution_count": 113,
   "id": "8809e7ba-6c87-427d-b2f2-f26fef1191be",
   "metadata": {},
   "outputs": [
    {
     "name": "stderr",
     "output_type": "stream",
     "text": [
      "C:\\Users\\laura\\AppData\\Local\\Temp\\ipykernel_16868\\3222719593.py:2: SettingWithCopyWarning: \n",
      "A value is trying to be set on a copy of a slice from a DataFrame.\n",
      "Try using .loc[row_indexer,col_indexer] = value instead\n",
      "\n",
      "See the caveats in the documentation: https://pandas.pydata.org/pandas-docs/stable/user_guide/indexing.html#returning-a-view-versus-a-copy\n",
      "  ords_prods_customers_target.loc[(ords_prods_customers_target['age'] > 18) & (ords_prods_customers_target['age'] <= 24) , 'age_cohort'] = '18 - 24'\n"
     ]
    }
   ],
   "source": [
    "#age\n",
    "ords_prods_customers_target.loc[(ords_prods_customers_target['age'] > 18) & (ords_prods_customers_target['age'] <= 24) , 'age_cohort'] = '18 - 24'\n",
    "ords_prods_customers_target.loc[(ords_prods_customers_target['age'] > 25) & (ords_prods_customers_target['age'] <= 34) , 'age_cohort'] = '25 - 34'\n",
    "ords_prods_customers_target.loc[(ords_prods_customers_target['age'] > 35) & (ords_prods_customers_target['age'] <= 44) , 'age_cohort'] = '35 - 44'\n",
    "ords_prods_customers_target.loc[(ords_prods_customers_target['age'] > 45) & (ords_prods_customers_target['age'] <= 54) , 'age_cohort'] = '45 - 54'\n",
    "ords_prods_customers_target.loc[(ords_prods_customers_target['age'] > 55) & (ords_prods_customers_target['age'] <= 64) , 'age_cohort'] = '55 - 64'\n",
    "ords_prods_customers_target.loc[(ords_prods_customers_target['age'] > 65),'age_cohort'] = '65+'"
   ]
  },
  {
   "cell_type": "code",
   "execution_count": 115,
   "id": "fb32b005-37df-4164-aa30-7cd4aaedfb89",
   "metadata": {},
   "outputs": [
    {
     "data": {
      "text/plain": [
       "(30964564, 31)"
      ]
     },
     "execution_count": 115,
     "metadata": {},
     "output_type": "execute_result"
    }
   ],
   "source": [
    "ords_prods_customers_target.shape"
   ]
  },
  {
   "cell_type": "code",
   "execution_count": 117,
   "id": "3c5c6af5-a76a-42ab-9df8-bc271f357fb4",
   "metadata": {},
   "outputs": [
    {
     "name": "stderr",
     "output_type": "stream",
     "text": [
      "C:\\Users\\laura\\AppData\\Local\\Temp\\ipykernel_16868\\3274672453.py:2: SettingWithCopyWarning: \n",
      "A value is trying to be set on a copy of a slice from a DataFrame.\n",
      "Try using .loc[row_indexer,col_indexer] = value instead\n",
      "\n",
      "See the caveats in the documentation: https://pandas.pydata.org/pandas-docs/stable/user_guide/indexing.html#returning-a-view-versus-a-copy\n",
      "  ords_prods_customers_target.loc[(ords_prods_customers_target['income'] < 50000), 'income_range'] = 'low income'\n"
     ]
    }
   ],
   "source": [
    "#income\n",
    "ords_prods_customers_target.loc[(ords_prods_customers_target['income'] < 50000), 'income_range'] = 'low income'\n",
    "ords_prods_customers_target.loc[(ords_prods_customers_target['income'] > 50000) & (ords_prods_customers_target['income'] <= 100000), 'income_range'] = 'lower middle income'\n",
    "ords_prods_customers_target.loc[(ords_prods_customers_target['income'] > 100000) & (ords_prods_customers_target['income'] <= 200000), 'income_range'] = 'upper middle income'\n",
    "ords_prods_customers_target.loc[(ords_prods_customers_target['income'] > 200000), 'income_range'] = 'upper income'"
   ]
  },
  {
   "cell_type": "code",
   "execution_count": 119,
   "id": "f5724350-4c7d-418a-a575-7d85aa3aff03",
   "metadata": {},
   "outputs": [
    {
     "data": {
      "text/plain": [
       "(30964564, 32)"
      ]
     },
     "execution_count": 119,
     "metadata": {},
     "output_type": "execute_result"
    }
   ],
   "source": [
    "ords_prods_customers_target.shape"
   ]
  },
  {
   "cell_type": "code",
   "execution_count": 121,
   "id": "0b6c344e-d2f9-4518-a7d0-ab248e9ca3bc",
   "metadata": {},
   "outputs": [
    {
     "name": "stderr",
     "output_type": "stream",
     "text": [
      "C:\\Users\\laura\\AppData\\Local\\Temp\\ipykernel_16868\\4027769117.py:2: SettingWithCopyWarning: \n",
      "A value is trying to be set on a copy of a slice from a DataFrame.\n",
      "Try using .loc[row_indexer,col_indexer] = value instead\n",
      "\n",
      "See the caveats in the documentation: https://pandas.pydata.org/pandas-docs/stable/user_guide/indexing.html#returning-a-view-versus-a-copy\n",
      "  ords_prods_customers_target.loc[(ords_prods_customers_target['department_id'].isin([10])), 'department_type'] = 'restaurant'\n"
     ]
    }
   ],
   "source": [
    "# categorize department ID\n",
    "ords_prods_customers_target.loc[(ords_prods_customers_target['department_id'].isin([10])), 'department_type'] = 'restaurant'\n",
    "ords_prods_customers_target.loc[(ords_prods_customers_target['department_id'].isin([3,14,20])), 'department_type'] = 'prepared'\n",
    "ords_prods_customers_target.loc[(ords_prods_customers_target['department_id'].isin([2,21])), 'department_type'] = 'not specified'\n",
    "ords_prods_customers_target.loc[(ords_prods_customers_target['department_id'].isin([8,11,17,18])), 'department_type'] = 'non-grocery'\n",
    "ords_prods_customers_target.loc[(ords_prods_customers_target['department_id'].isin([1,6,9,13,15,19])), 'department_type'] = 'grocery'\n",
    "ords_prods_customers_target.loc[(ords_prods_customers_target['department_id'].isin([5,7])), 'department_type'] = 'beverages'\n",
    "ords_prods_customers_target.loc[(ords_prods_customers_target['department_id'].isin([4,12,16])), 'department_type'] = 'perishable'"
   ]
  },
  {
   "cell_type": "code",
   "execution_count": 122,
   "id": "eb76cd6b-75db-4bc5-b42f-eb4fe086af6a",
   "metadata": {},
   "outputs": [
    {
     "data": {
      "text/plain": [
       "(30964564, 33)"
      ]
     },
     "execution_count": 122,
     "metadata": {},
     "output_type": "execute_result"
    }
   ],
   "source": [
    "ords_prods_customers_target.shape"
   ]
  },
  {
   "cell_type": "code",
   "execution_count": 125,
   "id": "f2400e1a-6060-4ac2-b9d1-2fe2a08ad344",
   "metadata": {},
   "outputs": [
    {
     "data": {
      "text/html": [
       "<div>\n",
       "<style scoped>\n",
       "    .dataframe tbody tr th:only-of-type {\n",
       "        vertical-align: middle;\n",
       "    }\n",
       "\n",
       "    .dataframe tbody tr th {\n",
       "        vertical-align: top;\n",
       "    }\n",
       "\n",
       "    .dataframe thead th {\n",
       "        text-align: right;\n",
       "    }\n",
       "</style>\n",
       "<table border=\"1\" class=\"dataframe\">\n",
       "  <thead>\n",
       "    <tr style=\"text-align: right;\">\n",
       "      <th></th>\n",
       "      <th>order_id</th>\n",
       "      <th>user_id</th>\n",
       "      <th>order_number</th>\n",
       "      <th>orders_day_of_week</th>\n",
       "      <th>order_hour_of_day</th>\n",
       "      <th>days_since_prior_order</th>\n",
       "      <th>product_id</th>\n",
       "      <th>add_to_cart_order</th>\n",
       "      <th>reordered</th>\n",
       "      <th>product_name</th>\n",
       "      <th>...</th>\n",
       "      <th>age</th>\n",
       "      <th>date_joined</th>\n",
       "      <th>dependant_count</th>\n",
       "      <th>fam_status</th>\n",
       "      <th>income</th>\n",
       "      <th>region</th>\n",
       "      <th>activity_flag</th>\n",
       "      <th>age_cohort</th>\n",
       "      <th>income_range</th>\n",
       "      <th>department_type</th>\n",
       "    </tr>\n",
       "  </thead>\n",
       "  <tbody>\n",
       "    <tr>\n",
       "      <th>0</th>\n",
       "      <td>2539329</td>\n",
       "      <td>1</td>\n",
       "      <td>1</td>\n",
       "      <td>2</td>\n",
       "      <td>8</td>\n",
       "      <td>NaN</td>\n",
       "      <td>196</td>\n",
       "      <td>1</td>\n",
       "      <td>0</td>\n",
       "      <td>Soda</td>\n",
       "      <td>...</td>\n",
       "      <td>31</td>\n",
       "      <td>2/17/2019</td>\n",
       "      <td>3</td>\n",
       "      <td>married</td>\n",
       "      <td>40423</td>\n",
       "      <td>South</td>\n",
       "      <td>regular activity customer</td>\n",
       "      <td>25 - 34</td>\n",
       "      <td>low income</td>\n",
       "      <td>beverages</td>\n",
       "    </tr>\n",
       "    <tr>\n",
       "      <th>1</th>\n",
       "      <td>2539329</td>\n",
       "      <td>1</td>\n",
       "      <td>1</td>\n",
       "      <td>2</td>\n",
       "      <td>8</td>\n",
       "      <td>NaN</td>\n",
       "      <td>14084</td>\n",
       "      <td>2</td>\n",
       "      <td>0</td>\n",
       "      <td>Organic Unsweetened Vanilla Almond Milk</td>\n",
       "      <td>...</td>\n",
       "      <td>31</td>\n",
       "      <td>2/17/2019</td>\n",
       "      <td>3</td>\n",
       "      <td>married</td>\n",
       "      <td>40423</td>\n",
       "      <td>South</td>\n",
       "      <td>regular activity customer</td>\n",
       "      <td>25 - 34</td>\n",
       "      <td>low income</td>\n",
       "      <td>perishable</td>\n",
       "    </tr>\n",
       "    <tr>\n",
       "      <th>2</th>\n",
       "      <td>2539329</td>\n",
       "      <td>1</td>\n",
       "      <td>1</td>\n",
       "      <td>2</td>\n",
       "      <td>8</td>\n",
       "      <td>NaN</td>\n",
       "      <td>12427</td>\n",
       "      <td>3</td>\n",
       "      <td>0</td>\n",
       "      <td>Original Beef Jerky</td>\n",
       "      <td>...</td>\n",
       "      <td>31</td>\n",
       "      <td>2/17/2019</td>\n",
       "      <td>3</td>\n",
       "      <td>married</td>\n",
       "      <td>40423</td>\n",
       "      <td>South</td>\n",
       "      <td>regular activity customer</td>\n",
       "      <td>25 - 34</td>\n",
       "      <td>low income</td>\n",
       "      <td>grocery</td>\n",
       "    </tr>\n",
       "    <tr>\n",
       "      <th>3</th>\n",
       "      <td>2539329</td>\n",
       "      <td>1</td>\n",
       "      <td>1</td>\n",
       "      <td>2</td>\n",
       "      <td>8</td>\n",
       "      <td>NaN</td>\n",
       "      <td>26088</td>\n",
       "      <td>4</td>\n",
       "      <td>0</td>\n",
       "      <td>Aged White Cheddar Popcorn</td>\n",
       "      <td>...</td>\n",
       "      <td>31</td>\n",
       "      <td>2/17/2019</td>\n",
       "      <td>3</td>\n",
       "      <td>married</td>\n",
       "      <td>40423</td>\n",
       "      <td>South</td>\n",
       "      <td>regular activity customer</td>\n",
       "      <td>25 - 34</td>\n",
       "      <td>low income</td>\n",
       "      <td>grocery</td>\n",
       "    </tr>\n",
       "    <tr>\n",
       "      <th>4</th>\n",
       "      <td>2539329</td>\n",
       "      <td>1</td>\n",
       "      <td>1</td>\n",
       "      <td>2</td>\n",
       "      <td>8</td>\n",
       "      <td>NaN</td>\n",
       "      <td>26405</td>\n",
       "      <td>5</td>\n",
       "      <td>0</td>\n",
       "      <td>XL Pick-A-Size Paper Towel Rolls</td>\n",
       "      <td>...</td>\n",
       "      <td>31</td>\n",
       "      <td>2/17/2019</td>\n",
       "      <td>3</td>\n",
       "      <td>married</td>\n",
       "      <td>40423</td>\n",
       "      <td>South</td>\n",
       "      <td>regular activity customer</td>\n",
       "      <td>25 - 34</td>\n",
       "      <td>low income</td>\n",
       "      <td>non-grocery</td>\n",
       "    </tr>\n",
       "  </tbody>\n",
       "</table>\n",
       "<p>5 rows × 33 columns</p>\n",
       "</div>"
      ],
      "text/plain": [
       "   order_id  user_id  order_number  orders_day_of_week  order_hour_of_day  \\\n",
       "0   2539329        1             1                   2                  8   \n",
       "1   2539329        1             1                   2                  8   \n",
       "2   2539329        1             1                   2                  8   \n",
       "3   2539329        1             1                   2                  8   \n",
       "4   2539329        1             1                   2                  8   \n",
       "\n",
       "   days_since_prior_order  product_id  add_to_cart_order  reordered  \\\n",
       "0                     NaN         196                  1          0   \n",
       "1                     NaN       14084                  2          0   \n",
       "2                     NaN       12427                  3          0   \n",
       "3                     NaN       26088                  4          0   \n",
       "4                     NaN       26405                  5          0   \n",
       "\n",
       "                              product_name  ...  age  date_joined  \\\n",
       "0                                     Soda  ...   31    2/17/2019   \n",
       "1  Organic Unsweetened Vanilla Almond Milk  ...   31    2/17/2019   \n",
       "2                      Original Beef Jerky  ...   31    2/17/2019   \n",
       "3               Aged White Cheddar Popcorn  ...   31    2/17/2019   \n",
       "4         XL Pick-A-Size Paper Towel Rolls  ...   31    2/17/2019   \n",
       "\n",
       "   dependant_count fam_status income  region              activity_flag  \\\n",
       "0                3    married  40423   South  regular activity customer   \n",
       "1                3    married  40423   South  regular activity customer   \n",
       "2                3    married  40423   South  regular activity customer   \n",
       "3                3    married  40423   South  regular activity customer   \n",
       "4                3    married  40423   South  regular activity customer   \n",
       "\n",
       "   age_cohort income_range  department_type  \n",
       "0     25 - 34   low income        beverages  \n",
       "1     25 - 34   low income       perishable  \n",
       "2     25 - 34   low income          grocery  \n",
       "3     25 - 34   low income          grocery  \n",
       "4     25 - 34   low income      non-grocery  \n",
       "\n",
       "[5 rows x 33 columns]"
      ]
     },
     "execution_count": 125,
     "metadata": {},
     "output_type": "execute_result"
    }
   ],
   "source": [
    "ords_prods_customers_target.head()"
   ]
  },
  {
   "cell_type": "code",
   "execution_count": 127,
   "id": "418466d1-fa14-4127-9158-d1f500f7509e",
   "metadata": {},
   "outputs": [
    {
     "name": "stderr",
     "output_type": "stream",
     "text": [
      "C:\\Users\\laura\\AppData\\Local\\Temp\\ipykernel_16868\\3119472928.py:2: SettingWithCopyWarning: \n",
      "A value is trying to be set on a copy of a slice from a DataFrame.\n",
      "Try using .loc[row_indexer,col_indexer] = value instead\n",
      "\n",
      "See the caveats in the documentation: https://pandas.pydata.org/pandas-docs/stable/user_guide/indexing.html#returning-a-view-versus-a-copy\n",
      "  ords_prods_customers_target.loc[(ords_prods_customers_target['dependant_count'] < 1), 'family_type'] = 'does not have children'\n"
     ]
    }
   ],
   "source": [
    "# dependents\n",
    "ords_prods_customers_target.loc[(ords_prods_customers_target['dependant_count'] < 1), 'family_type'] = 'does not have children'\n",
    "ords_prods_customers_target.loc[(ords_prods_customers_target['dependant_count'] >= 1), 'family_type'] = 'has children'"
   ]
  },
  {
   "cell_type": "code",
   "execution_count": 129,
   "id": "29be67f1-3338-4bb0-944a-0c739b3a6394",
   "metadata": {},
   "outputs": [
    {
     "data": {
      "text/plain": [
       "(30964564, 34)"
      ]
     },
     "execution_count": 129,
     "metadata": {},
     "output_type": "execute_result"
    }
   ],
   "source": [
    "ords_prods_customers_target.shape"
   ]
  },
  {
   "cell_type": "markdown",
   "id": "25edeab0-e21f-4011-9484-832fdf595a09",
   "metadata": {},
   "source": [
    "## Question 6 - create visualizations to show distributions of profiles."
   ]
  },
  {
   "cell_type": "code",
   "execution_count": 132,
   "id": "1844d406-5f80-460f-bfe4-f6444b0b5cfd",
   "metadata": {},
   "outputs": [],
   "source": [
    "#create a pie chart for the age range\n",
    "# put the results into their own data frame pre-grouped first\n",
    "pie_age_range_df = ords_prods_customers_target.groupby(['age_cohort']).count()['order_id']"
   ]
  },
  {
   "cell_type": "code",
   "execution_count": 158,
   "id": "c2acd11f-6217-4603-a7f8-d15d9b15e3a9",
   "metadata": {},
   "outputs": [
    {
     "data": {
      "image/png": "[encoded data removed]",
      "text/plain": [
       "<Figure size 600x600 with 1 Axes>"
      ]
     },
     "metadata": {},
     "output_type": "display_data"
    }
   ],
   "source": [
    "pie_age_range_chart, ax = plt.subplots(figsize=(6, 6))\n",
    "\n",
    "ax.pie(pie_age_range_df, labels=pie_age_range_df.index, autopct='%1.1f%%')\n",
    "ax.set_title('Instacart Age Ranges')\n",
    "\n",
    "pie_age_range_chart.savefig('pie_age_range_chart.png')\n",
    "\n",
    "plt.show()"
   ]
  },
  {
   "cell_type": "code",
   "execution_count": 160,
   "id": "0a9fafe9-fea3-4e9b-b360-9ab4796cd97c",
   "metadata": {},
   "outputs": [],
   "source": [
    "#export the chart\n",
    "pie_age_range_chart.figure.savefig(os.path.join(path_client,  'Analysis', 'Visualizations', 'pie_age_range_chart.png'))"
   ]
  },
  {
   "cell_type": "code",
   "execution_count": 164,
   "id": "0dd2830c-da67-46cf-82de-f31e00d89c8a",
   "metadata": {},
   "outputs": [],
   "source": [
    "#customers 65+ are instacarts most frequent users"
   ]
  },
  {
   "cell_type": "code",
   "execution_count": 166,
   "id": "b50415b9-3cc6-452c-80ce-c5dd41fa469a",
   "metadata": {},
   "outputs": [],
   "source": [
    "#Dependent analysis, because there are aonly two outcomes I will put this into a pie cart\n",
    "# put the results into their own data frame pre-grouped first\n",
    "pie_dependant_df = ords_prods_customers_target.groupby(['family_type']).count()['order_id']\n"
   ]
  },
  {
   "cell_type": "code",
   "execution_count": 168,
   "id": "47549c50-451f-4010-abed-772a802eb4bb",
   "metadata": {},
   "outputs": [
    {
     "data": {
      "text/plain": [
       "<bound method NDFrame.head of family_type\n",
       "does not have children     7739681\n",
       "has children              23224883\n",
       "Name: order_id, dtype: int64>"
      ]
     },
     "execution_count": 168,
     "metadata": {},
     "output_type": "execute_result"
    }
   ],
   "source": [
    "pie_dependant_df.head"
   ]
  },
  {
   "cell_type": "code",
   "execution_count": 170,
   "id": "c2756ac6-a7d6-4781-9792-1ec6d2fde065",
   "metadata": {},
   "outputs": [
    {
     "data": {
      "image/png": "[encoded data removed]",
      "text/plain": [
       "<Figure size 600x600 with 1 Axes>"
      ]
     },
     "metadata": {},
     "output_type": "display_data"
    }
   ],
   "source": [
    "pie_dependant_chart, ax = plt.subplots(figsize=(6, 6))\n",
    "\n",
    "ax.pie(pie_dependant_df, labels=pie_dependant_df.index, autopct='%1.1f%%')\n",
    "ax.set_title('Instacart Customers with Dependants')\n",
    "\n",
    "pie_age_range_chart.savefig('pie_dependant_chart.png')\n",
    "\n",
    "plt.show()"
   ]
  },
  {
   "cell_type": "code",
   "execution_count": 172,
   "id": "0c757929-39c6-43ee-bd32-b7eb66202019",
   "metadata": {},
   "outputs": [],
   "source": [
    "#the majority of instacarts customers do not have children"
   ]
  },
  {
   "cell_type": "code",
   "execution_count": 174,
   "id": "9dd28ec0-5f59-4ae0-91c9-d833dba46bad",
   "metadata": {},
   "outputs": [],
   "source": [
    "#export the chart\n",
    "pie_dependant_chart.figure.savefig(os.path.join(path_client,  'Analysis', 'Visualizations', 'pie_dependant_chart.png') , bbox_inches = 'tight')"
   ]
  },
  {
   "cell_type": "code",
   "execution_count": 176,
   "id": "5307d054-ec1c-4810-a04f-525e95b6bb9c",
   "metadata": {},
   "outputs": [
    {
     "data": {
      "image/png": "[encoded data removed]",
      "text/plain": [
       "<Figure size 640x480 with 1 Axes>"
      ]
     },
     "metadata": {},
     "output_type": "display_data"
    }
   ],
   "source": [
    "#create a bar chart with income range\n",
    "#add color\n",
    "income_bar = ords_prods_customers_target['income_range'].value_counts().sort_values(ascending=False).plot.bar(color = ['#bbbbbb', '#aa3377', '#ccbb44','#228833'])"
   ]
  },
  {
   "cell_type": "code",
   "execution_count": 178,
   "id": "c3357e82-31b1-4b8a-a5a3-89e628b46747",
   "metadata": {},
   "outputs": [],
   "source": [
    "#results - the upper and middle income customers are instacarts best customer"
   ]
  },
  {
   "cell_type": "code",
   "execution_count": 180,
   "id": "2b6913db-7698-4c42-83a9-57864aa6d21a",
   "metadata": {},
   "outputs": [],
   "source": [
    "#export the chart\n",
    "income_bar.figure.savefig(os.path.join(path_client,  'Analysis', 'Visualizations', 'bar_income.png'), bbox_inches = 'tight')"
   ]
  },
  {
   "cell_type": "code",
   "execution_count": 182,
   "id": "b0db4519-8e31-427b-aa03-5c90ce5e7353",
   "metadata": {},
   "outputs": [
    {
     "data": {
      "image/png": "[encoded data removed]",
      "text/plain": [
       "<Figure size 640x480 with 1 Axes>"
      ]
     },
     "metadata": {},
     "output_type": "display_data"
    }
   ],
   "source": [
    "#analyze department type\n",
    "department_bar = ords_prods_customers_target['department_type'].value_counts().sort_values(ascending=False).plot.bar(color = ['#bbbbbb'])"
   ]
  },
  {
   "cell_type": "code",
   "execution_count": 184,
   "id": "c05aaa00-c435-4946-836e-6e80e1000d89",
   "metadata": {},
   "outputs": [],
   "source": [
    "# perishable goods are Instacarts most popular product"
   ]
  },
  {
   "cell_type": "markdown",
   "id": "af710ec5-f4e2-4754-a289-6fc9086d3faa",
   "metadata": {},
   "source": [
    "## Question 7 :Aggregate the max, mean, and min variables on a customer-profile level for usage frequency and expenditure."
   ]
  },
  {
   "cell_type": "code",
   "execution_count": 187,
   "id": "b9916888-8e15-47be-a495-bd2ea874e12c",
   "metadata": {},
   "outputs": [],
   "source": [
    "cust_mean_min_mean = ords_prods_customers_target.groupby('user_id').agg({'prices': ['max', 'min', 'mean'], 'order_number': ['max', 'min', 'mean']})"
   ]
  },
  {
   "cell_type": "code",
   "execution_count": 189,
   "id": "3c906dfc-95b8-49b8-8786-69418d502c21",
   "metadata": {},
   "outputs": [
    {
     "data": {
      "text/html": [
       "<div>\n",
       "<style scoped>\n",
       "    .dataframe tbody tr th:only-of-type {\n",
       "        vertical-align: middle;\n",
       "    }\n",
       "\n",
       "    .dataframe tbody tr th {\n",
       "        vertical-align: top;\n",
       "    }\n",
       "\n",
       "    .dataframe thead tr th {\n",
       "        text-align: left;\n",
       "    }\n",
       "\n",
       "    .dataframe thead tr:last-of-type th {\n",
       "        text-align: right;\n",
       "    }\n",
       "</style>\n",
       "<table border=\"1\" class=\"dataframe\">\n",
       "  <thead>\n",
       "    <tr>\n",
       "      <th></th>\n",
       "      <th colspan=\"3\" halign=\"left\">prices</th>\n",
       "      <th colspan=\"3\" halign=\"left\">order_number</th>\n",
       "    </tr>\n",
       "    <tr>\n",
       "      <th></th>\n",
       "      <th>max</th>\n",
       "      <th>min</th>\n",
       "      <th>mean</th>\n",
       "      <th>max</th>\n",
       "      <th>min</th>\n",
       "      <th>mean</th>\n",
       "    </tr>\n",
       "    <tr>\n",
       "      <th>user_id</th>\n",
       "      <th></th>\n",
       "      <th></th>\n",
       "      <th></th>\n",
       "      <th></th>\n",
       "      <th></th>\n",
       "      <th></th>\n",
       "    </tr>\n",
       "  </thead>\n",
       "  <tbody>\n",
       "    <tr>\n",
       "      <th>1</th>\n",
       "      <td>14.0</td>\n",
       "      <td>1.0</td>\n",
       "      <td>6.367797</td>\n",
       "      <td>10</td>\n",
       "      <td>1</td>\n",
       "      <td>5.813559</td>\n",
       "    </tr>\n",
       "    <tr>\n",
       "      <th>2</th>\n",
       "      <td>14.8</td>\n",
       "      <td>1.3</td>\n",
       "      <td>7.515897</td>\n",
       "      <td>14</td>\n",
       "      <td>1</td>\n",
       "      <td>8.035897</td>\n",
       "    </tr>\n",
       "    <tr>\n",
       "      <th>3</th>\n",
       "      <td>14.4</td>\n",
       "      <td>1.3</td>\n",
       "      <td>8.197727</td>\n",
       "      <td>12</td>\n",
       "      <td>1</td>\n",
       "      <td>6.000000</td>\n",
       "    </tr>\n",
       "    <tr>\n",
       "      <th>4</th>\n",
       "      <td>14.6</td>\n",
       "      <td>1.4</td>\n",
       "      <td>8.205556</td>\n",
       "      <td>5</td>\n",
       "      <td>1</td>\n",
       "      <td>2.888889</td>\n",
       "    </tr>\n",
       "    <tr>\n",
       "      <th>7</th>\n",
       "      <td>23.2</td>\n",
       "      <td>1.1</td>\n",
       "      <td>7.466990</td>\n",
       "      <td>20</td>\n",
       "      <td>1</td>\n",
       "      <td>9.645631</td>\n",
       "    </tr>\n",
       "  </tbody>\n",
       "</table>\n",
       "</div>"
      ],
      "text/plain": [
       "        prices                order_number              \n",
       "           max  min      mean          max min      mean\n",
       "user_id                                                 \n",
       "1         14.0  1.0  6.367797           10   1  5.813559\n",
       "2         14.8  1.3  7.515897           14   1  8.035897\n",
       "3         14.4  1.3  8.197727           12   1  6.000000\n",
       "4         14.6  1.4  8.205556            5   1  2.888889\n",
       "7         23.2  1.1  7.466990           20   1  9.645631"
      ]
     },
     "execution_count": 189,
     "metadata": {},
     "output_type": "execute_result"
    }
   ],
   "source": [
    "cust_mean_min_mean.head()"
   ]
  },
  {
   "cell_type": "code",
   "execution_count": 191,
   "id": "dcf10186-524a-4e1f-a7e8-f5400293109a",
   "metadata": {},
   "outputs": [],
   "source": [
    "#export data for further analysis with will the placed in the crosstab folder in the final analysis\n",
    "cust_mean_min_mean.to_clipboard()"
   ]
  },
  {
   "cell_type": "markdown",
   "id": "6bbbf956-969c-48f0-86bd-67d0eade83a1",
   "metadata": {},
   "source": [
    "## Question 8 - Compare customer profiles across regions and departments"
   ]
  },
  {
   "cell_type": "code",
   "execution_count": 194,
   "id": "a502048e-396a-44fc-985a-2aa98d4c2440",
   "metadata": {},
   "outputs": [],
   "source": [
    "customer_region_crosstab = pd.crosstab(ords_prods_customers_target['region'], ords_prods_customers_target['department_type'], dropna = False )"
   ]
  },
  {
   "cell_type": "code",
   "execution_count": 196,
   "id": "f4a432ae-c458-420c-b073-cc5c2588d5cd",
   "metadata": {},
   "outputs": [
    {
     "data": {
      "text/html": [
       "<div>\n",
       "<style scoped>\n",
       "    .dataframe tbody tr th:only-of-type {\n",
       "        vertical-align: middle;\n",
       "    }\n",
       "\n",
       "    .dataframe tbody tr th {\n",
       "        vertical-align: top;\n",
       "    }\n",
       "\n",
       "    .dataframe thead th {\n",
       "        text-align: right;\n",
       "    }\n",
       "</style>\n",
       "<table border=\"1\" class=\"dataframe\">\n",
       "  <thead>\n",
       "    <tr style=\"text-align: right;\">\n",
       "      <th>department_type</th>\n",
       "      <th>beverages</th>\n",
       "      <th>grocery</th>\n",
       "      <th>non-grocery</th>\n",
       "      <th>not specified</th>\n",
       "      <th>perishable</th>\n",
       "      <th>prepared</th>\n",
       "      <th>restaurant</th>\n",
       "    </tr>\n",
       "    <tr>\n",
       "      <th>region</th>\n",
       "      <th></th>\n",
       "      <th></th>\n",
       "      <th></th>\n",
       "      <th></th>\n",
       "      <th></th>\n",
       "      <th></th>\n",
       "      <th></th>\n",
       "    </tr>\n",
       "  </thead>\n",
       "  <tbody>\n",
       "    <tr>\n",
       "      <th>Midwest</th>\n",
       "      <td>633022</td>\n",
       "      <td>2055290</td>\n",
       "      <td>384489</td>\n",
       "      <td>23546</td>\n",
       "      <td>3504865</td>\n",
       "      <td>652372</td>\n",
       "      <td>7929</td>\n",
       "    </tr>\n",
       "    <tr>\n",
       "      <th>Northeast</th>\n",
       "      <td>487946</td>\n",
       "      <td>1541752</td>\n",
       "      <td>289815</td>\n",
       "      <td>17780</td>\n",
       "      <td>2626191</td>\n",
       "      <td>495602</td>\n",
       "      <td>5599</td>\n",
       "    </tr>\n",
       "    <tr>\n",
       "      <th>South</th>\n",
       "      <td>908232</td>\n",
       "      <td>2913360</td>\n",
       "      <td>541977</td>\n",
       "      <td>33366</td>\n",
       "      <td>4974612</td>\n",
       "      <td>928412</td>\n",
       "      <td>11180</td>\n",
       "    </tr>\n",
       "    <tr>\n",
       "      <th>West</th>\n",
       "      <td>687328</td>\n",
       "      <td>2250641</td>\n",
       "      <td>411334</td>\n",
       "      <td>24487</td>\n",
       "      <td>3825568</td>\n",
       "      <td>719126</td>\n",
       "      <td>8743</td>\n",
       "    </tr>\n",
       "  </tbody>\n",
       "</table>\n",
       "</div>"
      ],
      "text/plain": [
       "department_type  beverages  grocery  non-grocery  not specified  perishable  \\\n",
       "region                                                                        \n",
       "Midwest             633022  2055290       384489          23546     3504865   \n",
       "Northeast           487946  1541752       289815          17780     2626191   \n",
       "South               908232  2913360       541977          33366     4974612   \n",
       "West                687328  2250641       411334          24487     3825568   \n",
       "\n",
       "department_type  prepared  restaurant  \n",
       "region                                 \n",
       "Midwest            652372        7929  \n",
       "Northeast          495602        5599  \n",
       "South              928412       11180  \n",
       "West               719126        8743  "
      ]
     },
     "execution_count": 196,
     "metadata": {},
     "output_type": "execute_result"
    }
   ],
   "source": [
    "customer_region_crosstab.head()"
   ]
  },
  {
   "cell_type": "code",
   "execution_count": 198,
   "id": "26385513-9677-4f9b-a30c-411f78276ebf",
   "metadata": {},
   "outputs": [
    {
     "data": {
      "image/png": "[encoded data removed]",
      "text/plain": [
       "<Figure size 640x480 with 1 Axes>"
      ]
     },
     "metadata": {},
     "output_type": "display_data"
    }
   ],
   "source": [
    "#compare with a bar chart\n",
    "customer_region_barchart = customer_region_crosstab.plot.bar(rot=0)"
   ]
  },
  {
   "cell_type": "code",
   "execution_count": 200,
   "id": "1c00a025-d0d5-43ed-bdb0-4d2d0bc2f149",
   "metadata": {},
   "outputs": [],
   "source": [
    "# The data shows that while there are regional differences in total spend by deaprtment the order in which regions buy productes is still the same"
   ]
  },
  {
   "cell_type": "code",
   "execution_count": 202,
   "id": "09a19343-46f9-4ae2-98cb-51bccecfdd64",
   "metadata": {},
   "outputs": [],
   "source": [
    "#export the chart\n",
    "customer_region_barchart.figure.savefig(os.path.join(path_client,  'Analysis', 'Visualizations', 'customer_region_barchart.png'))"
   ]
  },
  {
   "cell_type": "code",
   "execution_count": 204,
   "id": "a784799c-0a56-47c1-b4a4-aee331a90919",
   "metadata": {},
   "outputs": [],
   "source": [
    "#export the data so that it can be used for the second part of the final project\n",
    "ords_prods_customers_target.to_pickle(os.path.join(path,'Prepared Data', '4.10_final', 'ords_prods_customers_target'))"
   ]
  },
  {
   "cell_type": "code",
   "execution_count": null,
   "id": "22a03e09-b1a9-4e6f-a032-7a488308c3f8",
   "metadata": {},
   "outputs": [],
   "source": []
  }
 ],
 "metadata": {
  "kernelspec": {
   "display_name": "Python [conda env:base] *",
   "language": "python",
   "name": "conda-base-py"
  },
  "language_info": {
   "codemirror_mode": {
    "name": "ipython",
    "version": 3
   },
   "file_extension": ".py",
   "mimetype": "text/x-python",
   "name": "python",
   "nbconvert_exporter": "python",
   "pygments_lexer": "ipython3",
   "version": "3.12.7"
  }
 },
 "nbformat": 4,
 "nbformat_minor": 5
}
